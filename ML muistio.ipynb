{
 "cells": [
  {
   "cell_type": "markdown",
   "id": "7be460be-f28f-40b8-b863-5f8219a17101",
   "metadata": {},
   "source": [
    "# Scikit-Learn Cheatsheet"
   ]
  },
  {
   "cell_type": "markdown",
   "id": "a3f79bd4-0bc7-4e1c-820f-7a1f76e95bd6",
   "metadata": {},
   "source": [
    "# Linear regression"
   ]
  },
  {
   "cell_type": "code",
   "execution_count": 1,
   "id": "4beaca29-2a0a-4586-9ee1-bb6f0079c27e",
   "metadata": {},
   "outputs": [],
   "source": [
    "from sklearn.linear_model import LinearRegression\n",
    "\n",
    "your_model = LinearRegression()\n"
   ]
  },
  {
   "cell_type": "markdown",
   "id": "e87e3435-d923-4669-b6a3-a322a10ee8ec",
   "metadata": {},
   "source": [
    "### Fit"
   ]
  },
  {
   "cell_type": "code",
   "execution_count": 2,
   "id": "089aa108-c10c-4921-bca7-345b2448aecd",
   "metadata": {},
   "outputs": [
    {
     "ename": "NameError",
     "evalue": "name 'x_training_data' is not defined",
     "output_type": "error",
     "traceback": [
      "\u001b[1;31m---------------------------------------------------------------------------\u001b[0m",
      "\u001b[1;31mNameError\u001b[0m                                 Traceback (most recent call last)",
      "Cell \u001b[1;32mIn[2], line 1\u001b[0m\n\u001b[1;32m----> 1\u001b[0m your_model\u001b[38;5;241m.\u001b[39mfit(\u001b[43mx_training_data\u001b[49m, y_training_data)\n",
      "\u001b[1;31mNameError\u001b[0m: name 'x_training_data' is not defined"
     ]
    }
   ],
   "source": [
    "your_model.fit(x_training_data, y_training_data)"
   ]
  },
  {
   "cell_type": "markdown",
   "id": "82023cf9-a029-45a4-8e87-981495c81d2a",
   "metadata": {},
   "source": [
    ".coef_: contains the coefficients\n",
    ".intercept_: contains the intercept"
   ]
  },
  {
   "cell_type": "markdown",
   "id": "64892b9f-3294-4d95-9794-8c030a545b30",
   "metadata": {},
   "source": [
    "#### Predict: "
   ]
  },
  {
   "cell_type": "code",
   "execution_count": null,
   "id": "29431012-afed-456e-b72d-80fb651440d0",
   "metadata": {},
   "outputs": [],
   "source": [
    "predictions = your_model.predict(your_x_data)\n",
    "\n",
    ".score() # returns the coeffiecient of determination R²"
   ]
  },
  {
   "cell_type": "markdown",
   "id": "e48fd36c-3e58-4bb1-bee9-20c35cc98682",
   "metadata": {},
   "source": [
    "# Naive Bayes"
   ]
  },
  {
   "cell_type": "markdown",
   "id": "3890f5e5-038a-439a-8b04-1ed9d6b4379d",
   "metadata": {},
   "source": [
    "## Import and create the model"
   ]
  },
  {
   "cell_type": "code",
   "execution_count": null,
   "id": "9e37c6aa-ef5e-47aa-86d6-a4caed738740",
   "metadata": {},
   "outputs": [],
   "source": [
    "from sklearn.naive_bayes import MultinomialNB\n",
    "\n",
    "your_model = MultinomialNB()"
   ]
  },
  {
   "cell_type": "markdown",
   "id": "678c38f3-ec4f-4fe3-9ecd-a8414917f7f2",
   "metadata": {},
   "source": [
    "## Fit"
   ]
  },
  {
   "cell_type": "code",
   "execution_count": null,
   "id": "05fe102b-16de-4962-af96-240ec80daec6",
   "metadata": {},
   "outputs": [],
   "source": [
    "your_model.fit(x_training_data, y_training_data)\n"
   ]
  },
  {
   "cell_type": "markdown",
   "id": "2ab83b3d-9264-47f1-b3f3-ca12c7768a1f",
   "metadata": {},
   "source": [
    "## Predict:"
   ]
  },
  {
   "cell_type": "code",
   "execution_count": null,
   "id": "8bfd3223-2ba2-4cff-be90-5fda8e3eb42a",
   "metadata": {},
   "outputs": [],
   "source": [
    "# Returns a list of predicted classes - one prediction for every data point\n",
    "predictions = your_model.predict(your_x_data)\n",
    "\n",
    "# For every data point, returns a list of probabilities of each class\n",
    "probabilities = your_model.predict_proba(your_x_data)"
   ]
  },
  {
   "cell_type": "markdown",
   "id": "761a983b-9f74-474c-8951-6de10d93c9b9",
   "metadata": {},
   "source": [
    "# K-Nearest Neighbors"
   ]
  },
  {
   "cell_type": "markdown",
   "id": "d63d3304-7fb4-4065-a29e-2cecb8945353",
   "metadata": {},
   "source": [
    "## Import and create the model"
   ]
  },
  {
   "cell_type": "code",
   "execution_count": null,
   "id": "d046203c-5978-4f9e-902a-4e53816fc2a5",
   "metadata": {},
   "outputs": [],
   "source": [
    "from sklearn.neighbors import KNeighborsClassifier\n",
    "\n",
    "your_model = KNeighborsClassifier()"
   ]
  },
  {
   "cell_type": "markdown",
   "id": "092504d8-89f8-4f35-827c-4ab3f6c42eb6",
   "metadata": {},
   "source": [
    "## Fit"
   ]
  },
  {
   "cell_type": "code",
   "execution_count": null,
   "id": "d25abc17-88bf-4c6c-b2fe-796902846d7c",
   "metadata": {},
   "outputs": [],
   "source": [
    "your_model.fit(x_training_data, y_training_data)"
   ]
  },
  {
   "cell_type": "markdown",
   "id": "07645a00-a85b-4066-a856-e0110430833c",
   "metadata": {},
   "source": [
    "## Predict:"
   ]
  },
  {
   "cell_type": "code",
   "execution_count": null,
   "id": "e958d772-3973-4ad1-b7bf-593991cc5e0b",
   "metadata": {},
   "outputs": [],
   "source": [
    "# Returns a list of predicted classes - one prediction for every data point\n",
    "predictions = your_model.predict(your_x_data)\n",
    "\n",
    "# For every data point, returns a list of probabilities of each class\n",
    "probabilities = your_model.predict_proba(your_x_data)"
   ]
  },
  {
   "cell_type": "markdown",
   "id": "0a64ff5a-2efa-4a26-80a8-368bbd4bba51",
   "metadata": {},
   "source": [
    "# K-Means"
   ]
  },
  {
   "cell_type": "markdown",
   "id": "23296dd2-69fd-487d-9f0f-e63409032da4",
   "metadata": {},
   "source": [
    "## Import and create the model"
   ]
  },
  {
   "cell_type": "code",
   "execution_count": null,
   "id": "66fea4e9-4a09-4786-9a67-15058ea24145",
   "metadata": {},
   "outputs": [],
   "source": [
    "from sklearn.cluster import KMeans\n",
    "\n",
    "your_model = KMeans(n_clusters=4, init='random')"
   ]
  },
  {
   "cell_type": "markdown",
   "id": "2a27ca6f-eb7d-445a-aae7-7ef7a7ffadb3",
   "metadata": {},
   "source": [
    "- n_clusters: number of clusters to form and number of centroids to generate\n",
    "- init: method for initialization\n",
    "- k-means++: K-Means++ [default]\n",
    "- random: K-Means\n",
    "- random_state: the seed used by the random number generator [optional]"
   ]
  },
  {
   "cell_type": "markdown",
   "id": "b6151787-0169-41aa-ac31-176e01e4e8bb",
   "metadata": {},
   "source": [
    "## Fit:"
   ]
  },
  {
   "cell_type": "code",
   "execution_count": null,
   "id": "b9303131-6dfc-4692-bcc7-85d1eac6afd6",
   "metadata": {},
   "outputs": [],
   "source": [
    "your_model.fit(x_training_data)"
   ]
  },
  {
   "cell_type": "markdown",
   "id": "e219a12a-65df-479b-b702-36f884f0036d",
   "metadata": {},
   "source": [
    "## Predict:"
   ]
  },
  {
   "cell_type": "code",
   "execution_count": 4,
   "id": "788b43d1-e26a-4cc2-8f7e-005eacbeec63",
   "metadata": {},
   "outputs": [
    {
     "ename": "NameError",
     "evalue": "name 'your_x_data' is not defined",
     "output_type": "error",
     "traceback": [
      "\u001b[1;31m---------------------------------------------------------------------------\u001b[0m",
      "\u001b[1;31mNameError\u001b[0m                                 Traceback (most recent call last)",
      "Cell \u001b[1;32mIn[4], line 1\u001b[0m\n\u001b[1;32m----> 1\u001b[0m predictions \u001b[38;5;241m=\u001b[39m your_model\u001b[38;5;241m.\u001b[39mpredict(\u001b[43myour_x_data\u001b[49m)\n",
      "\u001b[1;31mNameError\u001b[0m: name 'your_x_data' is not defined"
     ]
    }
   ],
   "source": [
    "predictions = your_model.predict(your_x_data)"
   ]
  },
  {
   "cell_type": "markdown",
   "id": "a7f72adf-d10e-4025-9338-62831d4314a0",
   "metadata": {},
   "source": [
    "# Validating the Model"
   ]
  },
  {
   "cell_type": "markdown",
   "id": "9d4f7929-38dd-414b-8b4d-9753f3e65034",
   "metadata": {},
   "source": [
    "## Import and print accuracy, recall, precision, and F1 score:"
   ]
  },
  {
   "cell_type": "code",
   "execution_count": null,
   "id": "c793cded-eb0b-4cef-82a6-07b9ee08610b",
   "metadata": {},
   "outputs": [],
   "source": [
    "from sklearn.metrics import accuracy_score, recall_score, precision_score, f1_score\n",
    "\n",
    "print(accuracy_score(true_labels, guesses))\n",
    "print(recall_score(true_labels, guesses))\n",
    "print(precision_score(true_labels, guesses))\n",
    "print(f1_score(true_labels, guesses))\n"
   ]
  },
  {
   "cell_type": "markdown",
   "id": "c32aaafa-4fdc-4a2c-af35-2d4188d74d54",
   "metadata": {},
   "source": [
    "## Import and print the confusion matrix:"
   ]
  },
  {
   "cell_type": "code",
   "execution_count": null,
   "id": "d8acecf6-d662-403c-af96-0edd605d6281",
   "metadata": {},
   "outputs": [],
   "source": [
    "from sklearn.metrics import confusion_matrix\n",
    "\n",
    "print(confusion_matrix(true_labels, guesses))"
   ]
  },
  {
   "cell_type": "markdown",
   "id": "7fd10507-9409-46c5-86b0-337b22f6beb2",
   "metadata": {},
   "source": [
    "# Training sets and Test Sets"
   ]
  },
  {
   "cell_type": "code",
   "execution_count": null,
   "id": "a299bb6b-5415-4d55-aa4f-b9fcd8df0ec6",
   "metadata": {},
   "outputs": [],
   "source": [
    "from sklearn.model_selection import train_test_split\n",
    "\n",
    "x_train, x_test, y_train, y_test = train_test_split(x, y, train_size=0.8, test_size=0.2)"
   ]
  },
  {
   "cell_type": "markdown",
   "id": "e8410ef7-1f5b-4b30-b625-3acd427a336e",
   "metadata": {},
   "source": [
    "- train_size: the proportion of the dataset to include in the train split\n",
    "- test_size: the proportion of the dataset to include in the test split\n",
    "- random_state: the seed used by the random number generator [optional]"
   ]
  },
  {
   "cell_type": "code",
   "execution_count": null,
   "id": "42ff509b-b9b3-4947-bc8b-44a8d8c6c47e",
   "metadata": {},
   "outputs": [],
   "source": []
  }
 ],
 "metadata": {
  "kernelspec": {
   "display_name": "Python 3 (ipykernel)",
   "language": "python",
   "name": "python3"
  },
  "language_info": {
   "codemirror_mode": {
    "name": "ipython",
    "version": 3
   },
   "file_extension": ".py",
   "mimetype": "text/x-python",
   "name": "python",
   "nbconvert_exporter": "python",
   "pygments_lexer": "ipython3",
   "version": "3.9.0"
  }
 },
 "nbformat": 4,
 "nbformat_minor": 5
}
